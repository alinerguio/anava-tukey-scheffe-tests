{
 "cells": [
  {
   "cell_type": "code",
   "execution_count": 1,
   "id": "e97f9a9d",
   "metadata": {},
   "outputs": [],
   "source": [
    "import pandas as pd\n",
    "import numpy as np\n",
    "from scipy.stats import f_oneway\n",
    "from statsmodels.stats.multicomp import pairwise_tukeyhsd\n",
    "import statsmodels.api as sa\n",
    "import statsmodels.formula.api as sfa\n",
    "import scikit_posthocs as sp"
   ]
  },
  {
   "cell_type": "markdown",
   "id": "cc2b41be",
   "metadata": {},
   "source": [
    "## Organizando os dados"
   ]
  },
  {
   "cell_type": "code",
   "execution_count": 2,
   "id": "80755370",
   "metadata": {},
   "outputs": [],
   "source": [
    "relation = pd.DataFrame([{'tratamento': 'RT + Milho', 'sigla': 'A'},\n",
    "            {'tratamento': 'RT + Milho + Aditivo', 'sigla': 'B'},\n",
    "            {'tratamento': 'RT + Soja', 'sigla': 'C'},\n",
    "            {'tratamento': 'RT + Soja + Aditivo', 'sigla': 'D'}])"
   ]
  },
  {
   "cell_type": "code",
   "execution_count": 3,
   "id": "da0ebb79",
   "metadata": {},
   "outputs": [
    {
     "data": {
      "text/html": [
       "<div>\n",
       "<style scoped>\n",
       "    .dataframe tbody tr th:only-of-type {\n",
       "        vertical-align: middle;\n",
       "    }\n",
       "\n",
       "    .dataframe tbody tr th {\n",
       "        vertical-align: top;\n",
       "    }\n",
       "\n",
       "    .dataframe thead th {\n",
       "        text-align: right;\n",
       "    }\n",
       "</style>\n",
       "<table border=\"1\" class=\"dataframe\">\n",
       "  <thead>\n",
       "    <tr style=\"text-align: right;\">\n",
       "      <th></th>\n",
       "      <th>tratamento</th>\n",
       "      <th>sigla</th>\n",
       "    </tr>\n",
       "  </thead>\n",
       "  <tbody>\n",
       "    <tr>\n",
       "      <th>0</th>\n",
       "      <td>RT + Milho</td>\n",
       "      <td>A</td>\n",
       "    </tr>\n",
       "    <tr>\n",
       "      <th>1</th>\n",
       "      <td>RT + Milho + Aditivo</td>\n",
       "      <td>B</td>\n",
       "    </tr>\n",
       "    <tr>\n",
       "      <th>2</th>\n",
       "      <td>RT + Soja</td>\n",
       "      <td>C</td>\n",
       "    </tr>\n",
       "    <tr>\n",
       "      <th>3</th>\n",
       "      <td>RT + Soja + Aditivo</td>\n",
       "      <td>D</td>\n",
       "    </tr>\n",
       "  </tbody>\n",
       "</table>\n",
       "</div>"
      ],
      "text/plain": [
       "             tratamento sigla\n",
       "0            RT + Milho     A\n",
       "1  RT + Milho + Aditivo     B\n",
       "2             RT + Soja     C\n",
       "3   RT + Soja + Aditivo     D"
      ]
     },
     "execution_count": 3,
     "metadata": {},
     "output_type": "execute_result"
    }
   ],
   "source": [
    "relation"
   ]
  },
  {
   "cell_type": "code",
   "execution_count": 78,
   "id": "8a4f9807",
   "metadata": {},
   "outputs": [],
   "source": [
    "# dataframe com dados do exercício\n",
    "df = pd.DataFrame([{'tratamento': 'A', 'rep-1': 20, 'rep-2': 22, 'rep-3': 23, 'rep-4': 21, 'tipo': 'milho', 'aditivo': 'não-aditivo'}, \n",
    "                   {'tratamento': 'B', 'rep-1': 24, 'rep-2': 25, 'rep-3': 23, 'rep-4': 26, 'tipo': 'milho', 'aditivo': 'aditivo'},\n",
    "                   {'tratamento': 'C', 'rep-1': 27, 'rep-2': 27, 'rep-3': 25, 'rep-4': 29, 'tipo': 'soja', 'aditivo': 'não-aditivo'},\n",
    "                   {'tratamento': 'D', 'rep-1': 26, 'rep-2': 28, 'rep-3': 30, 'rep-4': 32, 'tipo': 'soja', 'aditivo': 'aditivo'}]) "
   ]
  },
  {
   "cell_type": "code",
   "execution_count": 79,
   "id": "93a913d2",
   "metadata": {},
   "outputs": [
    {
     "data": {
      "text/html": [
       "<div>\n",
       "<style scoped>\n",
       "    .dataframe tbody tr th:only-of-type {\n",
       "        vertical-align: middle;\n",
       "    }\n",
       "\n",
       "    .dataframe tbody tr th {\n",
       "        vertical-align: top;\n",
       "    }\n",
       "\n",
       "    .dataframe thead th {\n",
       "        text-align: right;\n",
       "    }\n",
       "</style>\n",
       "<table border=\"1\" class=\"dataframe\">\n",
       "  <thead>\n",
       "    <tr style=\"text-align: right;\">\n",
       "      <th></th>\n",
       "      <th>tratamento</th>\n",
       "      <th>rep-1</th>\n",
       "      <th>rep-2</th>\n",
       "      <th>rep-3</th>\n",
       "      <th>rep-4</th>\n",
       "      <th>tipo</th>\n",
       "      <th>aditivo</th>\n",
       "    </tr>\n",
       "  </thead>\n",
       "  <tbody>\n",
       "    <tr>\n",
       "      <th>0</th>\n",
       "      <td>A</td>\n",
       "      <td>20</td>\n",
       "      <td>22</td>\n",
       "      <td>23</td>\n",
       "      <td>21</td>\n",
       "      <td>milho</td>\n",
       "      <td>não-aditivo</td>\n",
       "    </tr>\n",
       "    <tr>\n",
       "      <th>1</th>\n",
       "      <td>B</td>\n",
       "      <td>24</td>\n",
       "      <td>25</td>\n",
       "      <td>23</td>\n",
       "      <td>26</td>\n",
       "      <td>milho</td>\n",
       "      <td>aditivo</td>\n",
       "    </tr>\n",
       "    <tr>\n",
       "      <th>2</th>\n",
       "      <td>C</td>\n",
       "      <td>27</td>\n",
       "      <td>27</td>\n",
       "      <td>25</td>\n",
       "      <td>29</td>\n",
       "      <td>soja</td>\n",
       "      <td>não-aditivo</td>\n",
       "    </tr>\n",
       "    <tr>\n",
       "      <th>3</th>\n",
       "      <td>D</td>\n",
       "      <td>26</td>\n",
       "      <td>28</td>\n",
       "      <td>30</td>\n",
       "      <td>32</td>\n",
       "      <td>soja</td>\n",
       "      <td>aditivo</td>\n",
       "    </tr>\n",
       "  </tbody>\n",
       "</table>\n",
       "</div>"
      ],
      "text/plain": [
       "  tratamento  rep-1  rep-2  rep-3  rep-4   tipo      aditivo\n",
       "0          A     20     22     23     21  milho  não-aditivo\n",
       "1          B     24     25     23     26  milho      aditivo\n",
       "2          C     27     27     25     29   soja  não-aditivo\n",
       "3          D     26     28     30     32   soja      aditivo"
      ]
     },
     "execution_count": 79,
     "metadata": {},
     "output_type": "execute_result"
    }
   ],
   "source": [
    "df"
   ]
  },
  {
   "cell_type": "markdown",
   "id": "1bce0fb8",
   "metadata": {},
   "source": [
    "## Letra C "
   ]
  },
  {
   "cell_type": "code",
   "execution_count": 80,
   "id": "e6025576",
   "metadata": {},
   "outputs": [],
   "source": [
    "df_anova = df.drop(columns=['tipo', 'aditivo']).set_index('tratamento').T.reset_index().drop(columns=['index'])"
   ]
  },
  {
   "cell_type": "code",
   "execution_count": 81,
   "id": "62fb92e2",
   "metadata": {},
   "outputs": [
    {
     "data": {
      "text/html": [
       "<div>\n",
       "<style scoped>\n",
       "    .dataframe tbody tr th:only-of-type {\n",
       "        vertical-align: middle;\n",
       "    }\n",
       "\n",
       "    .dataframe tbody tr th {\n",
       "        vertical-align: top;\n",
       "    }\n",
       "\n",
       "    .dataframe thead th {\n",
       "        text-align: right;\n",
       "    }\n",
       "</style>\n",
       "<table border=\"1\" class=\"dataframe\">\n",
       "  <thead>\n",
       "    <tr style=\"text-align: right;\">\n",
       "      <th>tratamento</th>\n",
       "      <th>A</th>\n",
       "      <th>B</th>\n",
       "      <th>C</th>\n",
       "      <th>D</th>\n",
       "    </tr>\n",
       "  </thead>\n",
       "  <tbody>\n",
       "    <tr>\n",
       "      <th>0</th>\n",
       "      <td>20</td>\n",
       "      <td>24</td>\n",
       "      <td>27</td>\n",
       "      <td>26</td>\n",
       "    </tr>\n",
       "    <tr>\n",
       "      <th>1</th>\n",
       "      <td>22</td>\n",
       "      <td>25</td>\n",
       "      <td>27</td>\n",
       "      <td>28</td>\n",
       "    </tr>\n",
       "    <tr>\n",
       "      <th>2</th>\n",
       "      <td>23</td>\n",
       "      <td>23</td>\n",
       "      <td>25</td>\n",
       "      <td>30</td>\n",
       "    </tr>\n",
       "    <tr>\n",
       "      <th>3</th>\n",
       "      <td>21</td>\n",
       "      <td>26</td>\n",
       "      <td>29</td>\n",
       "      <td>32</td>\n",
       "    </tr>\n",
       "  </tbody>\n",
       "</table>\n",
       "</div>"
      ],
      "text/plain": [
       "tratamento   A   B   C   D\n",
       "0           20  24  27  26\n",
       "1           22  25  27  28\n",
       "2           23  23  25  30\n",
       "3           21  26  29  32"
      ]
     },
     "execution_count": 81,
     "metadata": {},
     "output_type": "execute_result"
    }
   ],
   "source": [
    "df_anova"
   ]
  },
  {
   "cell_type": "code",
   "execution_count": 82,
   "id": "8a5c88c3",
   "metadata": {},
   "outputs": [
    {
     "data": {
      "text/plain": [
       "F_onewayResult(statistic=13.263157894736842, pvalue=0.0004062083471110179)"
      ]
     },
     "execution_count": 82,
     "metadata": {},
     "output_type": "execute_result"
    }
   ],
   "source": [
    "# anova aplicado á todas repetições de cada tratamento\n",
    "from scipy.stats import f_oneway\n",
    "f_oneway(df_anova['A'], df_anova['B'], df_anova['C'], df_anova['D'])"
   ]
  },
  {
   "cell_type": "code",
   "execution_count": 85,
   "id": "e6849309",
   "metadata": {},
   "outputs": [],
   "source": [
    "df_teste = pd.concat([df[[classificacao, 'rep-1']].rename(columns={'rep-1':valor}), \n",
    "                      df[[classificacao, 'rep-2']].rename(columns={'rep-2':valor}), \n",
    "                      df[[classificacao, 'rep-3']].rename(columns={'rep-3':valor}), \n",
    "                      df[[classificacao, 'rep-4']].rename(columns={'rep-4':valor})])"
   ]
  },
  {
   "cell_type": "code",
   "execution_count": 86,
   "id": "cac893ac",
   "metadata": {},
   "outputs": [
    {
     "data": {
      "text/html": [
       "<div>\n",
       "<style scoped>\n",
       "    .dataframe tbody tr th:only-of-type {\n",
       "        vertical-align: middle;\n",
       "    }\n",
       "\n",
       "    .dataframe tbody tr th {\n",
       "        vertical-align: top;\n",
       "    }\n",
       "\n",
       "    .dataframe thead th {\n",
       "        text-align: right;\n",
       "    }\n",
       "</style>\n",
       "<table border=\"1\" class=\"dataframe\">\n",
       "  <thead>\n",
       "    <tr style=\"text-align: right;\">\n",
       "      <th></th>\n",
       "      <th>tratamento</th>\n",
       "      <th>valor</th>\n",
       "    </tr>\n",
       "  </thead>\n",
       "  <tbody>\n",
       "    <tr>\n",
       "      <th>0</th>\n",
       "      <td>A</td>\n",
       "      <td>20</td>\n",
       "    </tr>\n",
       "    <tr>\n",
       "      <th>1</th>\n",
       "      <td>B</td>\n",
       "      <td>24</td>\n",
       "    </tr>\n",
       "    <tr>\n",
       "      <th>2</th>\n",
       "      <td>C</td>\n",
       "      <td>27</td>\n",
       "    </tr>\n",
       "    <tr>\n",
       "      <th>3</th>\n",
       "      <td>D</td>\n",
       "      <td>26</td>\n",
       "    </tr>\n",
       "    <tr>\n",
       "      <th>0</th>\n",
       "      <td>A</td>\n",
       "      <td>22</td>\n",
       "    </tr>\n",
       "    <tr>\n",
       "      <th>1</th>\n",
       "      <td>B</td>\n",
       "      <td>25</td>\n",
       "    </tr>\n",
       "    <tr>\n",
       "      <th>2</th>\n",
       "      <td>C</td>\n",
       "      <td>27</td>\n",
       "    </tr>\n",
       "    <tr>\n",
       "      <th>3</th>\n",
       "      <td>D</td>\n",
       "      <td>28</td>\n",
       "    </tr>\n",
       "    <tr>\n",
       "      <th>0</th>\n",
       "      <td>A</td>\n",
       "      <td>23</td>\n",
       "    </tr>\n",
       "    <tr>\n",
       "      <th>1</th>\n",
       "      <td>B</td>\n",
       "      <td>23</td>\n",
       "    </tr>\n",
       "    <tr>\n",
       "      <th>2</th>\n",
       "      <td>C</td>\n",
       "      <td>25</td>\n",
       "    </tr>\n",
       "    <tr>\n",
       "      <th>3</th>\n",
       "      <td>D</td>\n",
       "      <td>30</td>\n",
       "    </tr>\n",
       "    <tr>\n",
       "      <th>0</th>\n",
       "      <td>A</td>\n",
       "      <td>21</td>\n",
       "    </tr>\n",
       "    <tr>\n",
       "      <th>1</th>\n",
       "      <td>B</td>\n",
       "      <td>26</td>\n",
       "    </tr>\n",
       "    <tr>\n",
       "      <th>2</th>\n",
       "      <td>C</td>\n",
       "      <td>29</td>\n",
       "    </tr>\n",
       "    <tr>\n",
       "      <th>3</th>\n",
       "      <td>D</td>\n",
       "      <td>32</td>\n",
       "    </tr>\n",
       "  </tbody>\n",
       "</table>\n",
       "</div>"
      ],
      "text/plain": [
       "  tratamento  valor\n",
       "0          A     20\n",
       "1          B     24\n",
       "2          C     27\n",
       "3          D     26\n",
       "0          A     22\n",
       "1          B     25\n",
       "2          C     27\n",
       "3          D     28\n",
       "0          A     23\n",
       "1          B     23\n",
       "2          C     25\n",
       "3          D     30\n",
       "0          A     21\n",
       "1          B     26\n",
       "2          C     29\n",
       "3          D     32"
      ]
     },
     "execution_count": 86,
     "metadata": {},
     "output_type": "execute_result"
    }
   ],
   "source": [
    "df_teste"
   ]
  },
  {
   "cell_type": "code",
   "execution_count": 101,
   "id": "6c468fdb",
   "metadata": {},
   "outputs": [],
   "source": [
    "lm = sfa.ols('valor ~ C(tratamento)', data=df_teste).fit()\n",
    "anova = sa.stats.anova_lm(lm)"
   ]
  },
  {
   "cell_type": "code",
   "execution_count": 102,
   "id": "e20474b6",
   "metadata": {},
   "outputs": [
    {
     "data": {
      "text/html": [
       "<div>\n",
       "<style scoped>\n",
       "    .dataframe tbody tr th:only-of-type {\n",
       "        vertical-align: middle;\n",
       "    }\n",
       "\n",
       "    .dataframe tbody tr th {\n",
       "        vertical-align: top;\n",
       "    }\n",
       "\n",
       "    .dataframe thead th {\n",
       "        text-align: right;\n",
       "    }\n",
       "</style>\n",
       "<table border=\"1\" class=\"dataframe\">\n",
       "  <thead>\n",
       "    <tr style=\"text-align: right;\">\n",
       "      <th></th>\n",
       "      <th>df</th>\n",
       "      <th>sum_sq</th>\n",
       "      <th>mean_sq</th>\n",
       "      <th>F</th>\n",
       "      <th>PR(&gt;F)</th>\n",
       "    </tr>\n",
       "  </thead>\n",
       "  <tbody>\n",
       "    <tr>\n",
       "      <th>C(tratamento)</th>\n",
       "      <td>3.0</td>\n",
       "      <td>126.0</td>\n",
       "      <td>42.000000</td>\n",
       "      <td>13.263158</td>\n",
       "      <td>0.000406</td>\n",
       "    </tr>\n",
       "    <tr>\n",
       "      <th>Residual</th>\n",
       "      <td>12.0</td>\n",
       "      <td>38.0</td>\n",
       "      <td>3.166667</td>\n",
       "      <td>NaN</td>\n",
       "      <td>NaN</td>\n",
       "    </tr>\n",
       "  </tbody>\n",
       "</table>\n",
       "</div>"
      ],
      "text/plain": [
       "                 df  sum_sq    mean_sq          F    PR(>F)\n",
       "C(tratamento)   3.0   126.0  42.000000  13.263158  0.000406\n",
       "Residual       12.0    38.0   3.166667        NaN       NaN"
      ]
     },
     "execution_count": 102,
     "metadata": {},
     "output_type": "execute_result"
    }
   ],
   "source": [
    "anova"
   ]
  },
  {
   "cell_type": "markdown",
   "id": "e5849502",
   "metadata": {},
   "source": [
    "## Letra E"
   ]
  },
  {
   "cell_type": "code",
   "execution_count": 84,
   "id": "a0e8f466",
   "metadata": {},
   "outputs": [],
   "source": [
    "classificacao = 'tratamento'\n",
    "valor = 'valor'"
   ]
  },
  {
   "cell_type": "code",
   "execution_count": 87,
   "id": "01dde3a9",
   "metadata": {},
   "outputs": [],
   "source": [
    "tukey = sp.posthoc_tukey(df_teste, group_col=classificacao, val_col=valor)"
   ]
  },
  {
   "cell_type": "code",
   "execution_count": 88,
   "id": "f6e9f684",
   "metadata": {},
   "outputs": [
    {
     "data": {
      "text/html": [
       "<div>\n",
       "<style scoped>\n",
       "    .dataframe tbody tr th:only-of-type {\n",
       "        vertical-align: middle;\n",
       "    }\n",
       "\n",
       "    .dataframe tbody tr th {\n",
       "        vertical-align: top;\n",
       "    }\n",
       "\n",
       "    .dataframe thead th {\n",
       "        text-align: right;\n",
       "    }\n",
       "</style>\n",
       "<table border=\"1\" class=\"dataframe\">\n",
       "  <thead>\n",
       "    <tr style=\"text-align: right;\">\n",
       "      <th></th>\n",
       "      <th>A</th>\n",
       "      <th>B</th>\n",
       "      <th>C</th>\n",
       "      <th>D</th>\n",
       "    </tr>\n",
       "  </thead>\n",
       "  <tbody>\n",
       "    <tr>\n",
       "      <th>A</th>\n",
       "      <td>1.000000</td>\n",
       "      <td>0.133300</td>\n",
       "      <td>0.004361</td>\n",
       "      <td>0.001000</td>\n",
       "    </tr>\n",
       "    <tr>\n",
       "      <th>B</th>\n",
       "      <td>0.133300</td>\n",
       "      <td>1.000000</td>\n",
       "      <td>0.245876</td>\n",
       "      <td>0.017321</td>\n",
       "    </tr>\n",
       "    <tr>\n",
       "      <th>C</th>\n",
       "      <td>0.004361</td>\n",
       "      <td>0.245876</td>\n",
       "      <td>1.000000</td>\n",
       "      <td>0.421238</td>\n",
       "    </tr>\n",
       "    <tr>\n",
       "      <th>D</th>\n",
       "      <td>0.001000</td>\n",
       "      <td>0.017321</td>\n",
       "      <td>0.421238</td>\n",
       "      <td>1.000000</td>\n",
       "    </tr>\n",
       "  </tbody>\n",
       "</table>\n",
       "</div>"
      ],
      "text/plain": [
       "          A         B         C         D\n",
       "A  1.000000  0.133300  0.004361  0.001000\n",
       "B  0.133300  1.000000  0.245876  0.017321\n",
       "C  0.004361  0.245876  1.000000  0.421238\n",
       "D  0.001000  0.017321  0.421238  1.000000"
      ]
     },
     "execution_count": 88,
     "metadata": {},
     "output_type": "execute_result"
    }
   ],
   "source": [
    "tukey"
   ]
  },
  {
   "cell_type": "code",
   "execution_count": 107,
   "id": "ca82df17",
   "metadata": {},
   "outputs": [
    {
     "name": "stdout",
     "output_type": "stream",
     "text": [
      "Multiple Comparison of Means - Tukey HSD, FWER=0.05 \n",
      "====================================================\n",
      "group1 group2 meandiff p-adj   lower   upper  reject\n",
      "----------------------------------------------------\n",
      "     A      B      3.0 0.1333 -0.7362  6.7362  False\n",
      "     A      C      5.5 0.0044  1.7638  9.2362   True\n",
      "     A      D      7.5  0.001  3.7638 11.2362   True\n",
      "     B      C      2.5 0.2459 -1.2362  6.2362  False\n",
      "     B      D      4.5 0.0173  0.7638  8.2362   True\n",
      "     C      D      2.0 0.4212 -1.7362  5.7362  False\n",
      "----------------------------------------------------\n"
     ]
    }
   ],
   "source": [
    "tukey_pair = pairwise_tukeyhsd(endog=df_teste[valor],\n",
    "                          groups=df_teste[classificacao],\n",
    "                          alpha=0.05)\n",
    "\n",
    "print(tukey_pair)"
   ]
  },
  {
   "cell_type": "markdown",
   "id": "732ac27d",
   "metadata": {},
   "source": [
    "## Letra F"
   ]
  },
  {
   "cell_type": "code",
   "execution_count": 109,
   "id": "6117c803",
   "metadata": {},
   "outputs": [],
   "source": [
    "classificacao = 'tipo'\n",
    "valor = 'valor'"
   ]
  },
  {
   "cell_type": "code",
   "execution_count": 117,
   "id": "1b14fa92",
   "metadata": {},
   "outputs": [],
   "source": [
    "relation = pd.DataFrame([{'tratamento': 'milho', 'sigla': 'A'},\n",
    "            {'tratamento': 'milho', 'sigla': 'B'},\n",
    "            {'tratamento': 'soja', 'sigla': 'C'},\n",
    "            {'tratamento': 'soja', 'sigla': 'D'}])"
   ]
  },
  {
   "cell_type": "code",
   "execution_count": 118,
   "id": "c6ed707a",
   "metadata": {},
   "outputs": [
    {
     "data": {
      "text/html": [
       "<div>\n",
       "<style scoped>\n",
       "    .dataframe tbody tr th:only-of-type {\n",
       "        vertical-align: middle;\n",
       "    }\n",
       "\n",
       "    .dataframe tbody tr th {\n",
       "        vertical-align: top;\n",
       "    }\n",
       "\n",
       "    .dataframe thead th {\n",
       "        text-align: right;\n",
       "    }\n",
       "</style>\n",
       "<table border=\"1\" class=\"dataframe\">\n",
       "  <thead>\n",
       "    <tr style=\"text-align: right;\">\n",
       "      <th></th>\n",
       "      <th>tratamento</th>\n",
       "      <th>sigla</th>\n",
       "    </tr>\n",
       "  </thead>\n",
       "  <tbody>\n",
       "    <tr>\n",
       "      <th>0</th>\n",
       "      <td>milho</td>\n",
       "      <td>A</td>\n",
       "    </tr>\n",
       "    <tr>\n",
       "      <th>1</th>\n",
       "      <td>milho</td>\n",
       "      <td>B</td>\n",
       "    </tr>\n",
       "    <tr>\n",
       "      <th>2</th>\n",
       "      <td>soja</td>\n",
       "      <td>C</td>\n",
       "    </tr>\n",
       "    <tr>\n",
       "      <th>3</th>\n",
       "      <td>soja</td>\n",
       "      <td>D</td>\n",
       "    </tr>\n",
       "  </tbody>\n",
       "</table>\n",
       "</div>"
      ],
      "text/plain": [
       "  tratamento sigla\n",
       "0      milho     A\n",
       "1      milho     B\n",
       "2       soja     C\n",
       "3       soja     D"
      ]
     },
     "execution_count": 118,
     "metadata": {},
     "output_type": "execute_result"
    }
   ],
   "source": [
    "relation"
   ]
  },
  {
   "cell_type": "code",
   "execution_count": 110,
   "id": "b0cd8338",
   "metadata": {},
   "outputs": [],
   "source": [
    "df_teste = pd.concat([df[[classificacao, 'rep-1']].rename(columns={'rep-1':valor}), \n",
    "                      df[[classificacao, 'rep-2']].rename(columns={'rep-2':valor}), \n",
    "                      df[[classificacao, 'rep-3']].rename(columns={'rep-3':valor}), \n",
    "                      df[[classificacao, 'rep-4']].rename(columns={'rep-4':valor})])"
   ]
  },
  {
   "cell_type": "code",
   "execution_count": 116,
   "id": "e0bb60ec",
   "metadata": {},
   "outputs": [
    {
     "data": {
      "text/html": [
       "<div>\n",
       "<style scoped>\n",
       "    .dataframe tbody tr th:only-of-type {\n",
       "        vertical-align: middle;\n",
       "    }\n",
       "\n",
       "    .dataframe tbody tr th {\n",
       "        vertical-align: top;\n",
       "    }\n",
       "\n",
       "    .dataframe thead th {\n",
       "        text-align: right;\n",
       "    }\n",
       "</style>\n",
       "<table border=\"1\" class=\"dataframe\">\n",
       "  <thead>\n",
       "    <tr style=\"text-align: right;\">\n",
       "      <th></th>\n",
       "      <th>tipo</th>\n",
       "      <th>valor</th>\n",
       "    </tr>\n",
       "  </thead>\n",
       "  <tbody>\n",
       "    <tr>\n",
       "      <th>0</th>\n",
       "      <td>milho</td>\n",
       "      <td>20</td>\n",
       "    </tr>\n",
       "    <tr>\n",
       "      <th>1</th>\n",
       "      <td>milho</td>\n",
       "      <td>24</td>\n",
       "    </tr>\n",
       "    <tr>\n",
       "      <th>2</th>\n",
       "      <td>soja</td>\n",
       "      <td>27</td>\n",
       "    </tr>\n",
       "    <tr>\n",
       "      <th>3</th>\n",
       "      <td>soja</td>\n",
       "      <td>26</td>\n",
       "    </tr>\n",
       "    <tr>\n",
       "      <th>0</th>\n",
       "      <td>milho</td>\n",
       "      <td>22</td>\n",
       "    </tr>\n",
       "    <tr>\n",
       "      <th>1</th>\n",
       "      <td>milho</td>\n",
       "      <td>25</td>\n",
       "    </tr>\n",
       "    <tr>\n",
       "      <th>2</th>\n",
       "      <td>soja</td>\n",
       "      <td>27</td>\n",
       "    </tr>\n",
       "    <tr>\n",
       "      <th>3</th>\n",
       "      <td>soja</td>\n",
       "      <td>28</td>\n",
       "    </tr>\n",
       "    <tr>\n",
       "      <th>0</th>\n",
       "      <td>milho</td>\n",
       "      <td>23</td>\n",
       "    </tr>\n",
       "    <tr>\n",
       "      <th>1</th>\n",
       "      <td>milho</td>\n",
       "      <td>23</td>\n",
       "    </tr>\n",
       "    <tr>\n",
       "      <th>2</th>\n",
       "      <td>soja</td>\n",
       "      <td>25</td>\n",
       "    </tr>\n",
       "    <tr>\n",
       "      <th>3</th>\n",
       "      <td>soja</td>\n",
       "      <td>30</td>\n",
       "    </tr>\n",
       "    <tr>\n",
       "      <th>0</th>\n",
       "      <td>milho</td>\n",
       "      <td>21</td>\n",
       "    </tr>\n",
       "    <tr>\n",
       "      <th>1</th>\n",
       "      <td>milho</td>\n",
       "      <td>26</td>\n",
       "    </tr>\n",
       "    <tr>\n",
       "      <th>2</th>\n",
       "      <td>soja</td>\n",
       "      <td>29</td>\n",
       "    </tr>\n",
       "    <tr>\n",
       "      <th>3</th>\n",
       "      <td>soja</td>\n",
       "      <td>32</td>\n",
       "    </tr>\n",
       "  </tbody>\n",
       "</table>\n",
       "</div>"
      ],
      "text/plain": [
       "    tipo  valor\n",
       "0  milho     20\n",
       "1  milho     24\n",
       "2   soja     27\n",
       "3   soja     26\n",
       "0  milho     22\n",
       "1  milho     25\n",
       "2   soja     27\n",
       "3   soja     28\n",
       "0  milho     23\n",
       "1  milho     23\n",
       "2   soja     25\n",
       "3   soja     30\n",
       "0  milho     21\n",
       "1  milho     26\n",
       "2   soja     29\n",
       "3   soja     32"
      ]
     },
     "execution_count": 116,
     "metadata": {},
     "output_type": "execute_result"
    }
   ],
   "source": [
    "df_teste"
   ]
  },
  {
   "cell_type": "code",
   "execution_count": 129,
   "id": "beaac917",
   "metadata": {},
   "outputs": [],
   "source": [
    "def pairwise_scheffe(df, treatment, value):\n",
    "    p_adj = sp.posthoc_scheffe(df, group_col=treatment, val_col=value)\n",
    "    mean = df.groupby(treatment).mean()\n",
    "    \n",
    "    combinations = list(itertools.combinations(p_adj.columns, 2))\n",
    "    \n",
    "    result = []\n",
    "    for combination in combinations: \n",
    "        first = mean.loc[combination[0], value]\n",
    "        second = mean.loc[combination[1], value]\n",
    "        p_value = p_adj.loc[combination[0], combination[1]]\n",
    "            \n",
    "        result.append([combination[0], combination[1], abs(first-second), p_value])\n",
    "    \n",
    "    result_scheffe = pd.DataFrame(result, columns=['group1', 'group2', 'meandiff', 'p-value'])\n",
    "    \n",
    "    return result_scheffe"
   ]
  },
  {
   "cell_type": "code",
   "execution_count": 130,
   "id": "7c1df289",
   "metadata": {},
   "outputs": [],
   "source": [
    "scheffe = sp.posthoc_scheffe(df_teste, group_col=classificacao, val_col=valor)"
   ]
  },
  {
   "cell_type": "code",
   "execution_count": 131,
   "id": "46403820",
   "metadata": {},
   "outputs": [
    {
     "data": {
      "text/html": [
       "<div>\n",
       "<style scoped>\n",
       "    .dataframe tbody tr th:only-of-type {\n",
       "        vertical-align: middle;\n",
       "    }\n",
       "\n",
       "    .dataframe tbody tr th {\n",
       "        vertical-align: top;\n",
       "    }\n",
       "\n",
       "    .dataframe thead th {\n",
       "        text-align: right;\n",
       "    }\n",
       "</style>\n",
       "<table border=\"1\" class=\"dataframe\">\n",
       "  <thead>\n",
       "    <tr style=\"text-align: right;\">\n",
       "      <th></th>\n",
       "      <th>não-aditivo</th>\n",
       "      <th>aditivo</th>\n",
       "    </tr>\n",
       "  </thead>\n",
       "  <tbody>\n",
       "    <tr>\n",
       "      <th>não-aditivo</th>\n",
       "      <td>1.000000</td>\n",
       "      <td>0.134876</td>\n",
       "    </tr>\n",
       "    <tr>\n",
       "      <th>aditivo</th>\n",
       "      <td>0.134876</td>\n",
       "      <td>1.000000</td>\n",
       "    </tr>\n",
       "  </tbody>\n",
       "</table>\n",
       "</div>"
      ],
      "text/plain": [
       "             não-aditivo   aditivo\n",
       "não-aditivo     1.000000  0.134876\n",
       "aditivo         0.134876  1.000000"
      ]
     },
     "execution_count": 131,
     "metadata": {},
     "output_type": "execute_result"
    }
   ],
   "source": [
    "scheffe"
   ]
  },
  {
   "cell_type": "code",
   "execution_count": 132,
   "id": "e4248b72",
   "metadata": {
    "scrolled": true
   },
   "outputs": [
    {
     "data": {
      "text/html": [
       "<div>\n",
       "<style scoped>\n",
       "    .dataframe tbody tr th:only-of-type {\n",
       "        vertical-align: middle;\n",
       "    }\n",
       "\n",
       "    .dataframe tbody tr th {\n",
       "        vertical-align: top;\n",
       "    }\n",
       "\n",
       "    .dataframe thead th {\n",
       "        text-align: right;\n",
       "    }\n",
       "</style>\n",
       "<table border=\"1\" class=\"dataframe\">\n",
       "  <thead>\n",
       "    <tr style=\"text-align: right;\">\n",
       "      <th></th>\n",
       "      <th>group1</th>\n",
       "      <th>group2</th>\n",
       "      <th>meandiff</th>\n",
       "      <th>p-value</th>\n",
       "    </tr>\n",
       "  </thead>\n",
       "  <tbody>\n",
       "    <tr>\n",
       "      <th>0</th>\n",
       "      <td>não-aditivo</td>\n",
       "      <td>aditivo</td>\n",
       "      <td>2.5</td>\n",
       "      <td>0.134876</td>\n",
       "    </tr>\n",
       "  </tbody>\n",
       "</table>\n",
       "</div>"
      ],
      "text/plain": [
       "        group1   group2  meandiff   p-value\n",
       "0  não-aditivo  aditivo       2.5  0.134876"
      ]
     },
     "execution_count": 132,
     "metadata": {},
     "output_type": "execute_result"
    }
   ],
   "source": [
    "scheffe_pair = pairwise_scheffe(df_teste, classificacao, valor)\n",
    "\n",
    "scheffe_pair"
   ]
  },
  {
   "cell_type": "markdown",
   "id": "c7902313",
   "metadata": {},
   "source": [
    "## Letra G"
   ]
  },
  {
   "cell_type": "code",
   "execution_count": 119,
   "id": "d28c3236",
   "metadata": {},
   "outputs": [],
   "source": [
    "classificacao = 'aditivo'\n",
    "valor = 'valor'"
   ]
  },
  {
   "cell_type": "code",
   "execution_count": 120,
   "id": "eed88b36",
   "metadata": {},
   "outputs": [],
   "source": [
    "df_teste = pd.concat([df[[classificacao, 'rep-1']].rename(columns={'rep-1':valor}), \n",
    "                      df[[classificacao, 'rep-2']].rename(columns={'rep-2':valor}), \n",
    "                      df[[classificacao, 'rep-3']].rename(columns={'rep-3':valor}), \n",
    "                      df[[classificacao, 'rep-4']].rename(columns={'rep-4':valor})])"
   ]
  },
  {
   "cell_type": "code",
   "execution_count": 121,
   "id": "b2fdc84c",
   "metadata": {},
   "outputs": [
    {
     "data": {
      "text/html": [
       "<div>\n",
       "<style scoped>\n",
       "    .dataframe tbody tr th:only-of-type {\n",
       "        vertical-align: middle;\n",
       "    }\n",
       "\n",
       "    .dataframe tbody tr th {\n",
       "        vertical-align: top;\n",
       "    }\n",
       "\n",
       "    .dataframe thead th {\n",
       "        text-align: right;\n",
       "    }\n",
       "</style>\n",
       "<table border=\"1\" class=\"dataframe\">\n",
       "  <thead>\n",
       "    <tr style=\"text-align: right;\">\n",
       "      <th></th>\n",
       "      <th>aditivo</th>\n",
       "      <th>valor</th>\n",
       "    </tr>\n",
       "  </thead>\n",
       "  <tbody>\n",
       "    <tr>\n",
       "      <th>0</th>\n",
       "      <td>não-aditivo</td>\n",
       "      <td>20</td>\n",
       "    </tr>\n",
       "    <tr>\n",
       "      <th>1</th>\n",
       "      <td>aditivo</td>\n",
       "      <td>24</td>\n",
       "    </tr>\n",
       "    <tr>\n",
       "      <th>2</th>\n",
       "      <td>não-aditivo</td>\n",
       "      <td>27</td>\n",
       "    </tr>\n",
       "    <tr>\n",
       "      <th>3</th>\n",
       "      <td>aditivo</td>\n",
       "      <td>26</td>\n",
       "    </tr>\n",
       "    <tr>\n",
       "      <th>0</th>\n",
       "      <td>não-aditivo</td>\n",
       "      <td>22</td>\n",
       "    </tr>\n",
       "    <tr>\n",
       "      <th>1</th>\n",
       "      <td>aditivo</td>\n",
       "      <td>25</td>\n",
       "    </tr>\n",
       "    <tr>\n",
       "      <th>2</th>\n",
       "      <td>não-aditivo</td>\n",
       "      <td>27</td>\n",
       "    </tr>\n",
       "    <tr>\n",
       "      <th>3</th>\n",
       "      <td>aditivo</td>\n",
       "      <td>28</td>\n",
       "    </tr>\n",
       "    <tr>\n",
       "      <th>0</th>\n",
       "      <td>não-aditivo</td>\n",
       "      <td>23</td>\n",
       "    </tr>\n",
       "    <tr>\n",
       "      <th>1</th>\n",
       "      <td>aditivo</td>\n",
       "      <td>23</td>\n",
       "    </tr>\n",
       "    <tr>\n",
       "      <th>2</th>\n",
       "      <td>não-aditivo</td>\n",
       "      <td>25</td>\n",
       "    </tr>\n",
       "    <tr>\n",
       "      <th>3</th>\n",
       "      <td>aditivo</td>\n",
       "      <td>30</td>\n",
       "    </tr>\n",
       "    <tr>\n",
       "      <th>0</th>\n",
       "      <td>não-aditivo</td>\n",
       "      <td>21</td>\n",
       "    </tr>\n",
       "    <tr>\n",
       "      <th>1</th>\n",
       "      <td>aditivo</td>\n",
       "      <td>26</td>\n",
       "    </tr>\n",
       "    <tr>\n",
       "      <th>2</th>\n",
       "      <td>não-aditivo</td>\n",
       "      <td>29</td>\n",
       "    </tr>\n",
       "    <tr>\n",
       "      <th>3</th>\n",
       "      <td>aditivo</td>\n",
       "      <td>32</td>\n",
       "    </tr>\n",
       "  </tbody>\n",
       "</table>\n",
       "</div>"
      ],
      "text/plain": [
       "       aditivo  valor\n",
       "0  não-aditivo     20\n",
       "1      aditivo     24\n",
       "2  não-aditivo     27\n",
       "3      aditivo     26\n",
       "0  não-aditivo     22\n",
       "1      aditivo     25\n",
       "2  não-aditivo     27\n",
       "3      aditivo     28\n",
       "0  não-aditivo     23\n",
       "1      aditivo     23\n",
       "2  não-aditivo     25\n",
       "3      aditivo     30\n",
       "0  não-aditivo     21\n",
       "1      aditivo     26\n",
       "2  não-aditivo     29\n",
       "3      aditivo     32"
      ]
     },
     "execution_count": 121,
     "metadata": {},
     "output_type": "execute_result"
    }
   ],
   "source": [
    "df_teste"
   ]
  },
  {
   "cell_type": "code",
   "execution_count": 127,
   "id": "e04e1239",
   "metadata": {},
   "outputs": [],
   "source": [
    "scheffe = sp.posthoc_scheffe(df_teste, group_col=classificacao, val_col=valor, p_adjust=0.5)"
   ]
  },
  {
   "cell_type": "code",
   "execution_count": 133,
   "id": "3039c3d7",
   "metadata": {},
   "outputs": [
    {
     "data": {
      "text/html": [
       "<div>\n",
       "<style scoped>\n",
       "    .dataframe tbody tr th:only-of-type {\n",
       "        vertical-align: middle;\n",
       "    }\n",
       "\n",
       "    .dataframe tbody tr th {\n",
       "        vertical-align: top;\n",
       "    }\n",
       "\n",
       "    .dataframe thead th {\n",
       "        text-align: right;\n",
       "    }\n",
       "</style>\n",
       "<table border=\"1\" class=\"dataframe\">\n",
       "  <thead>\n",
       "    <tr style=\"text-align: right;\">\n",
       "      <th></th>\n",
       "      <th>não-aditivo</th>\n",
       "      <th>aditivo</th>\n",
       "    </tr>\n",
       "  </thead>\n",
       "  <tbody>\n",
       "    <tr>\n",
       "      <th>não-aditivo</th>\n",
       "      <td>1.000000</td>\n",
       "      <td>0.134876</td>\n",
       "    </tr>\n",
       "    <tr>\n",
       "      <th>aditivo</th>\n",
       "      <td>0.134876</td>\n",
       "      <td>1.000000</td>\n",
       "    </tr>\n",
       "  </tbody>\n",
       "</table>\n",
       "</div>"
      ],
      "text/plain": [
       "             não-aditivo   aditivo\n",
       "não-aditivo     1.000000  0.134876\n",
       "aditivo         0.134876  1.000000"
      ]
     },
     "execution_count": 133,
     "metadata": {},
     "output_type": "execute_result"
    }
   ],
   "source": [
    "scheffe"
   ]
  },
  {
   "cell_type": "code",
   "execution_count": 134,
   "id": "51bb96f3",
   "metadata": {
    "scrolled": true
   },
   "outputs": [
    {
     "data": {
      "text/html": [
       "<div>\n",
       "<style scoped>\n",
       "    .dataframe tbody tr th:only-of-type {\n",
       "        vertical-align: middle;\n",
       "    }\n",
       "\n",
       "    .dataframe tbody tr th {\n",
       "        vertical-align: top;\n",
       "    }\n",
       "\n",
       "    .dataframe thead th {\n",
       "        text-align: right;\n",
       "    }\n",
       "</style>\n",
       "<table border=\"1\" class=\"dataframe\">\n",
       "  <thead>\n",
       "    <tr style=\"text-align: right;\">\n",
       "      <th></th>\n",
       "      <th>group1</th>\n",
       "      <th>group2</th>\n",
       "      <th>meandiff</th>\n",
       "      <th>p-value</th>\n",
       "    </tr>\n",
       "  </thead>\n",
       "  <tbody>\n",
       "    <tr>\n",
       "      <th>0</th>\n",
       "      <td>não-aditivo</td>\n",
       "      <td>aditivo</td>\n",
       "      <td>2.5</td>\n",
       "      <td>0.134876</td>\n",
       "    </tr>\n",
       "  </tbody>\n",
       "</table>\n",
       "</div>"
      ],
      "text/plain": [
       "        group1   group2  meandiff   p-value\n",
       "0  não-aditivo  aditivo       2.5  0.134876"
      ]
     },
     "execution_count": 134,
     "metadata": {},
     "output_type": "execute_result"
    }
   ],
   "source": [
    "scheffe_pair = pairwise_scheffe(df_teste, classificacao, valor)\n",
    "\n",
    "scheffe_pair"
   ]
  },
  {
   "cell_type": "code",
   "execution_count": null,
   "id": "40dcb386",
   "metadata": {},
   "outputs": [],
   "source": []
  }
 ],
 "metadata": {
  "kernelspec": {
   "display_name": "Python 3 (ipykernel)",
   "language": "python",
   "name": "python3"
  },
  "language_info": {
   "codemirror_mode": {
    "name": "ipython",
    "version": 3
   },
   "file_extension": ".py",
   "mimetype": "text/x-python",
   "name": "python",
   "nbconvert_exporter": "python",
   "pygments_lexer": "ipython3",
   "version": "3.9.5"
  }
 },
 "nbformat": 4,
 "nbformat_minor": 5
}
